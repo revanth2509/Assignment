{
 "cells": [
  {
   "cell_type": "markdown",
   "id": "eligible-capitol",
   "metadata": {
    "papermill": {
     "duration": 0.017712,
     "end_time": "2021-04-23T21:58:35.923141",
     "exception": false,
     "start_time": "2021-04-23T21:58:35.905429",
     "status": "completed"
    },
    "tags": []
   },
   "source": [
    "# WARNING\n",
    "**Please make sure to \"COPY AND EDIT NOTEBOOK\" to use compatible library dependencies! DO NOT CREATE A NEW NOTEBOOK AND COPY+PASTE THE CODE - this will use latest Kaggle dependencies at the time you do that, and the code will need to be modified to make it work. Also make sure internet connectivity is enabled on your notebook**"
   ]
  },
  {
   "cell_type": "markdown",
   "id": "closing-concentration",
   "metadata": {
    "papermill": {
     "duration": 0.015828,
     "end_time": "2021-04-23T21:58:35.955565",
     "exception": false,
     "start_time": "2021-04-23T21:58:35.939737",
     "status": "completed"
    },
    "tags": []
   },
   "source": [
    "# Preliminaries\n",
    "First install critical dependencies not already on the Kaggle docker image"
   ]
  },
  {
   "cell_type": "code",
   "execution_count": 1,
   "id": "sorted-edwards",
   "metadata": {
    "execution": {
     "iopub.execute_input": "2021-04-23T21:58:35.992139Z",
     "iopub.status.busy": "2021-04-23T21:58:35.991398Z",
     "iopub.status.idle": "2021-04-23T21:58:45.047129Z",
     "shell.execute_reply": "2021-04-23T21:58:45.046163Z"
    },
    "papermill": {
     "duration": 9.075656,
     "end_time": "2021-04-23T21:58:45.047309",
     "exception": false,
     "start_time": "2021-04-23T21:58:35.971653",
     "status": "completed"
    },
    "tags": []
   },
   "outputs": [
    {
     "name": "stdout",
     "output_type": "stream",
     "text": [
      "Collecting tensorflow-text\r\n",
      "  Downloading tensorflow_text-2.4.3-cp37-cp37m-manylinux1_x86_64.whl (3.4 MB)\r\n",
      "\u001b[K     |████████████████████████████████| 3.4 MB 870 kB/s \r\n",
      "\u001b[?25hRequirement already satisfied: tensorflow-hub>=0.8.0 in /opt/conda/lib/python3.7/site-packages (from tensorflow-text) (0.11.0)\r\n",
      "Requirement already satisfied: tensorflow<2.5,>=2.4.0 in /opt/conda/lib/python3.7/site-packages (from tensorflow-text) (2.4.1)\r\n",
      "Requirement already satisfied: google-pasta~=0.2 in /opt/conda/lib/python3.7/site-packages (from tensorflow<2.5,>=2.4.0->tensorflow-text) (0.2.0)\r\n",
      "Requirement already satisfied: tensorboard~=2.4 in /opt/conda/lib/python3.7/site-packages (from tensorflow<2.5,>=2.4.0->tensorflow-text) (2.4.1)\r\n",
      "Requirement already satisfied: wrapt~=1.12.1 in /opt/conda/lib/python3.7/site-packages (from tensorflow<2.5,>=2.4.0->tensorflow-text) (1.12.1)\r\n",
      "Requirement already satisfied: wheel~=0.35 in /opt/conda/lib/python3.7/site-packages (from tensorflow<2.5,>=2.4.0->tensorflow-text) (0.36.2)\r\n",
      "Requirement already satisfied: grpcio~=1.32.0 in /opt/conda/lib/python3.7/site-packages (from tensorflow<2.5,>=2.4.0->tensorflow-text) (1.32.0)\r\n",
      "Requirement already satisfied: astunparse~=1.6.3 in /opt/conda/lib/python3.7/site-packages (from tensorflow<2.5,>=2.4.0->tensorflow-text) (1.6.3)\r\n",
      "Requirement already satisfied: keras-preprocessing~=1.1.2 in /opt/conda/lib/python3.7/site-packages (from tensorflow<2.5,>=2.4.0->tensorflow-text) (1.1.2)\r\n",
      "Requirement already satisfied: flatbuffers~=1.12.0 in /opt/conda/lib/python3.7/site-packages (from tensorflow<2.5,>=2.4.0->tensorflow-text) (1.12)\r\n",
      "Requirement already satisfied: numpy~=1.19.2 in /opt/conda/lib/python3.7/site-packages (from tensorflow<2.5,>=2.4.0->tensorflow-text) (1.19.5)\r\n",
      "Requirement already satisfied: opt-einsum~=3.3.0 in /opt/conda/lib/python3.7/site-packages (from tensorflow<2.5,>=2.4.0->tensorflow-text) (3.3.0)\r\n",
      "Requirement already satisfied: protobuf>=3.9.2 in /opt/conda/lib/python3.7/site-packages (from tensorflow<2.5,>=2.4.0->tensorflow-text) (3.15.6)\r\n",
      "Requirement already satisfied: tensorflow-estimator<2.5.0,>=2.4.0 in /opt/conda/lib/python3.7/site-packages (from tensorflow<2.5,>=2.4.0->tensorflow-text) (2.4.0)\r\n",
      "Requirement already satisfied: gast==0.3.3 in /opt/conda/lib/python3.7/site-packages (from tensorflow<2.5,>=2.4.0->tensorflow-text) (0.3.3)\r\n",
      "Requirement already satisfied: termcolor~=1.1.0 in /opt/conda/lib/python3.7/site-packages (from tensorflow<2.5,>=2.4.0->tensorflow-text) (1.1.0)\r\n",
      "Requirement already satisfied: absl-py~=0.10 in /opt/conda/lib/python3.7/site-packages (from tensorflow<2.5,>=2.4.0->tensorflow-text) (0.12.0)\r\n",
      "Requirement already satisfied: typing-extensions~=3.7.4 in /opt/conda/lib/python3.7/site-packages (from tensorflow<2.5,>=2.4.0->tensorflow-text) (3.7.4.3)\r\n",
      "Requirement already satisfied: h5py~=2.10.0 in /opt/conda/lib/python3.7/site-packages (from tensorflow<2.5,>=2.4.0->tensorflow-text) (2.10.0)\r\n",
      "Requirement already satisfied: six~=1.15.0 in /opt/conda/lib/python3.7/site-packages (from tensorflow<2.5,>=2.4.0->tensorflow-text) (1.15.0)\r\n",
      "Requirement already satisfied: tensorboard-plugin-wit>=1.6.0 in /opt/conda/lib/python3.7/site-packages (from tensorboard~=2.4->tensorflow<2.5,>=2.4.0->tensorflow-text) (1.8.0)\r\n",
      "Requirement already satisfied: markdown>=2.6.8 in /opt/conda/lib/python3.7/site-packages (from tensorboard~=2.4->tensorflow<2.5,>=2.4.0->tensorflow-text) (3.3.3)\r\n",
      "Requirement already satisfied: setuptools>=41.0.0 in /opt/conda/lib/python3.7/site-packages (from tensorboard~=2.4->tensorflow<2.5,>=2.4.0->tensorflow-text) (49.6.0.post20210108)\r\n",
      "Requirement already satisfied: requests<3,>=2.21.0 in /opt/conda/lib/python3.7/site-packages (from tensorboard~=2.4->tensorflow<2.5,>=2.4.0->tensorflow-text) (2.25.1)\r\n",
      "Requirement already satisfied: google-auth-oauthlib<0.5,>=0.4.1 in /opt/conda/lib/python3.7/site-packages (from tensorboard~=2.4->tensorflow<2.5,>=2.4.0->tensorflow-text) (0.4.2)\r\n",
      "Requirement already satisfied: google-auth<2,>=1.6.3 in /opt/conda/lib/python3.7/site-packages (from tensorboard~=2.4->tensorflow<2.5,>=2.4.0->tensorflow-text) (1.24.0)\r\n",
      "Requirement already satisfied: werkzeug>=0.11.15 in /opt/conda/lib/python3.7/site-packages (from tensorboard~=2.4->tensorflow<2.5,>=2.4.0->tensorflow-text) (1.0.1)\r\n",
      "Requirement already satisfied: pyasn1-modules>=0.2.1 in /opt/conda/lib/python3.7/site-packages (from google-auth<2,>=1.6.3->tensorboard~=2.4->tensorflow<2.5,>=2.4.0->tensorflow-text) (0.2.7)\r\n",
      "Requirement already satisfied: cachetools<5.0,>=2.0.0 in /opt/conda/lib/python3.7/site-packages (from google-auth<2,>=1.6.3->tensorboard~=2.4->tensorflow<2.5,>=2.4.0->tensorflow-text) (4.2.1)\r\n",
      "Requirement already satisfied: rsa<5,>=3.1.4 in /opt/conda/lib/python3.7/site-packages (from google-auth<2,>=1.6.3->tensorboard~=2.4->tensorflow<2.5,>=2.4.0->tensorflow-text) (4.7.1)\r\n",
      "Requirement already satisfied: requests-oauthlib>=0.7.0 in /opt/conda/lib/python3.7/site-packages (from google-auth-oauthlib<0.5,>=0.4.1->tensorboard~=2.4->tensorflow<2.5,>=2.4.0->tensorflow-text) (1.3.0)\r\n",
      "Requirement already satisfied: importlib-metadata in /opt/conda/lib/python3.7/site-packages (from markdown>=2.6.8->tensorboard~=2.4->tensorflow<2.5,>=2.4.0->tensorflow-text) (3.4.0)\r\n",
      "Requirement already satisfied: pyasn1<0.5.0,>=0.4.6 in /opt/conda/lib/python3.7/site-packages (from pyasn1-modules>=0.2.1->google-auth<2,>=1.6.3->tensorboard~=2.4->tensorflow<2.5,>=2.4.0->tensorflow-text) (0.4.8)\r\n",
      "Requirement already satisfied: chardet<5,>=3.0.2 in /opt/conda/lib/python3.7/site-packages (from requests<3,>=2.21.0->tensorboard~=2.4->tensorflow<2.5,>=2.4.0->tensorflow-text) (3.0.4)\r\n",
      "Requirement already satisfied: urllib3<1.27,>=1.21.1 in /opt/conda/lib/python3.7/site-packages (from requests<3,>=2.21.0->tensorboard~=2.4->tensorflow<2.5,>=2.4.0->tensorflow-text) (1.26.3)\r\n",
      "Requirement already satisfied: idna<3,>=2.5 in /opt/conda/lib/python3.7/site-packages (from requests<3,>=2.21.0->tensorboard~=2.4->tensorflow<2.5,>=2.4.0->tensorflow-text) (2.10)\r\n",
      "Requirement already satisfied: certifi>=2017.4.17 in /opt/conda/lib/python3.7/site-packages (from requests<3,>=2.21.0->tensorboard~=2.4->tensorflow<2.5,>=2.4.0->tensorflow-text) (2020.12.5)\r\n",
      "Requirement already satisfied: oauthlib>=3.0.0 in /opt/conda/lib/python3.7/site-packages (from requests-oauthlib>=0.7.0->google-auth-oauthlib<0.5,>=0.4.1->tensorboard~=2.4->tensorflow<2.5,>=2.4.0->tensorflow-text) (3.0.1)\r\n",
      "Requirement already satisfied: zipp>=0.5 in /opt/conda/lib/python3.7/site-packages (from importlib-metadata->markdown>=2.6.8->tensorboard~=2.4->tensorflow<2.5,>=2.4.0->tensorflow-text) (3.4.0)\r\n",
      "Installing collected packages: tensorflow-text\r\n",
      "Successfully installed tensorflow-text-2.4.3\r\n"
     ]
    }
   ],
   "source": [
    "!pip install tensorflow-text"
   ]
  },
  {
   "cell_type": "markdown",
   "id": "accepted-volume",
   "metadata": {
    "papermill": {
     "duration": 0.023902,
     "end_time": "2021-04-23T21:58:45.098069",
     "exception": false,
     "start_time": "2021-04-23T21:58:45.074167",
     "status": "completed"
    },
    "tags": []
   },
   "source": [
    "Write requirements to file, anytime you run it, in case you have to go back and recover Kaggle dependencies. **MOST OF THESE REQUIREMENTS WOULD NOT BE NECESSARY FOR LOCAL INSTALLATION**\n",
    "\n",
    "Latest known such requirements are hosted for each notebook in the companion github repo, and can be pulled down and installed here if needed. Companion github repo is located at https://github.com/azunre/transfer-learning-for-nlp"
   ]
  },
  {
   "cell_type": "code",
   "execution_count": 2,
   "id": "jewish-reynolds",
   "metadata": {
    "_cell_guid": "b1076dfc-b9ad-4769-8c92-a6c4dae69d19",
    "_uuid": "8f2839f25d086af736a60e9eeb907d3b93b6e0e5",
    "execution": {
     "iopub.execute_input": "2021-04-23T21:58:45.154538Z",
     "iopub.status.busy": "2021-04-23T21:58:45.153670Z",
     "iopub.status.idle": "2021-04-23T21:58:46.858309Z",
     "shell.execute_reply": "2021-04-23T21:58:46.857371Z"
    },
    "papermill": {
     "duration": 1.736522,
     "end_time": "2021-04-23T21:58:46.858451",
     "exception": false,
     "start_time": "2021-04-23T21:58:45.121929",
     "status": "completed"
    },
    "tags": []
   },
   "outputs": [],
   "source": [
    "!pip freeze > kaggle_image_requirements.txt"
   ]
  },
  {
   "cell_type": "code",
   "execution_count": 3,
   "id": "varied-occurrence",
   "metadata": {
    "execution": {
     "iopub.execute_input": "2021-04-23T21:58:46.911790Z",
     "iopub.status.busy": "2021-04-23T21:58:46.911014Z",
     "iopub.status.idle": "2021-04-23T21:58:51.957118Z",
     "shell.execute_reply": "2021-04-23T21:58:51.956154Z"
    },
    "papermill": {
     "duration": 5.074222,
     "end_time": "2021-04-23T21:58:51.957283",
     "exception": false,
     "start_time": "2021-04-23T21:58:46.883061",
     "status": "completed"
    },
    "tags": []
   },
   "outputs": [],
   "source": [
    "# Import neural network libraries\n",
    "import tensorflow as tf\n",
    "import tensorflow_hub as hub\n",
    "import tensorflow_text"
   ]
  },
  {
   "cell_type": "code",
   "execution_count": 4,
   "id": "processed-bullet",
   "metadata": {
    "execution": {
     "iopub.execute_input": "2021-04-23T21:58:52.008968Z",
     "iopub.status.busy": "2021-04-23T21:58:52.008201Z",
     "iopub.status.idle": "2021-04-23T21:58:52.011101Z",
     "shell.execute_reply": "2021-04-23T21:58:52.010690Z"
    },
    "papermill": {
     "duration": 0.030021,
     "end_time": "2021-04-23T21:58:52.011214",
     "exception": false,
     "start_time": "2021-04-23T21:58:51.981193",
     "status": "completed"
    },
    "tags": []
   },
   "outputs": [],
   "source": [
    "# Some other key imports\n",
    "import os\n",
    "import re\n",
    "import pandas as pd\n",
    "import numpy as np\n",
    "from tqdm import tqdm"
   ]
  },
  {
   "cell_type": "markdown",
   "id": "consolidated-shade",
   "metadata": {
    "papermill": {
     "duration": 0.023933,
     "end_time": "2021-04-23T21:58:52.058296",
     "exception": false,
     "start_time": "2021-04-23T21:58:52.034363",
     "status": "completed"
    },
    "tags": []
   },
   "source": [
    "# Define Tokenization, Stop-word and Punctuation Removal Functions\n",
    "Before proceeding, we must decide how many samples to draw from each class. We must also decide the maximum number of tokens per email, and the maximum length of each token. This is done by setting the following overarching hyperparameters"
   ]
  },
  {
   "cell_type": "code",
   "execution_count": 5,
   "id": "knowing-wisdom",
   "metadata": {
    "execution": {
     "iopub.execute_input": "2021-04-23T21:58:52.108956Z",
     "iopub.status.busy": "2021-04-23T21:58:52.108297Z",
     "iopub.status.idle": "2021-04-23T21:58:52.110653Z",
     "shell.execute_reply": "2021-04-23T21:58:52.111033Z"
    },
    "papermill": {
     "duration": 0.02934,
     "end_time": "2021-04-23T21:58:52.111154",
     "exception": false,
     "start_time": "2021-04-23T21:58:52.081814",
     "status": "completed"
    },
    "tags": []
   },
   "outputs": [],
   "source": [
    "# Params for bert model and tokenization\n",
    "Nsamp = 1000 # number of samples to generate in each class - 'spam', 'not spam'\n",
    "maxtokens = 200 # the maximum number of tokens per document\n",
    "maxtokenlen = 100 # the maximum length of each token"
   ]
  },
  {
   "cell_type": "code",
   "execution_count": 6,
   "id": "present-black",
   "metadata": {
    "execution": {
     "iopub.execute_input": "2021-04-23T21:58:52.163915Z",
     "iopub.status.busy": "2021-04-23T21:58:52.163212Z",
     "iopub.status.idle": "2021-04-23T21:58:52.166254Z",
     "shell.execute_reply": "2021-04-23T21:58:52.165739Z"
    },
    "papermill": {
     "duration": 0.032049,
     "end_time": "2021-04-23T21:58:52.166400",
     "exception": false,
     "start_time": "2021-04-23T21:58:52.134351",
     "status": "completed"
    },
    "tags": []
   },
   "outputs": [],
   "source": [
    "def tokenize(row):\n",
    "    if row is None or row is '':\n",
    "        tokens = \"\"\n",
    "    else:\n",
    "        try:\n",
    "            tokens = row.split(\" \")[:maxtokens]\n",
    "        except:\n",
    "            tokens=\"\"\n",
    "    return tokens"
   ]
  },
  {
   "cell_type": "markdown",
   "id": "sophisticated-bones",
   "metadata": {
    "papermill": {
     "duration": 0.023894,
     "end_time": "2021-04-23T21:58:52.213969",
     "exception": false,
     "start_time": "2021-04-23T21:58:52.190075",
     "status": "completed"
    },
    "tags": []
   },
   "source": [
    "## Use regular expressions to remove unnecessary characters\n",
    "\n",
    "Next, we define a function to remove punctuation marks and other nonword characters (using regular expressions) from the emails with the help of the ubiquitous python regex library. In the same step, we truncate all tokens to hyperparameter maxtokenlen defined above."
   ]
  },
  {
   "cell_type": "code",
   "execution_count": 7,
   "id": "greenhouse-switch",
   "metadata": {
    "execution": {
     "iopub.execute_input": "2021-04-23T21:58:52.266848Z",
     "iopub.status.busy": "2021-04-23T21:58:52.266133Z",
     "iopub.status.idle": "2021-04-23T21:58:52.268511Z",
     "shell.execute_reply": "2021-04-23T21:58:52.268998Z"
    },
    "papermill": {
     "duration": 0.031469,
     "end_time": "2021-04-23T21:58:52.269122",
     "exception": false,
     "start_time": "2021-04-23T21:58:52.237653",
     "status": "completed"
    },
    "tags": []
   },
   "outputs": [],
   "source": [
    "def reg_expressions(row):\n",
    "    tokens = []\n",
    "    try:\n",
    "        for token in row:\n",
    "            token = token.lower()\n",
    "            token = re.sub(r'[\\W\\d]', \"\", token)\n",
    "            token = token[:maxtokenlen] # truncate token\n",
    "            tokens.append(token)\n",
    "    except:\n",
    "        token = \"\"\n",
    "        tokens.append(token)\n",
    "    return tokens"
   ]
  },
  {
   "cell_type": "markdown",
   "id": "connected-final",
   "metadata": {
    "papermill": {
     "duration": 0.023598,
     "end_time": "2021-04-23T21:58:52.316630",
     "exception": false,
     "start_time": "2021-04-23T21:58:52.293032",
     "status": "completed"
    },
    "tags": []
   },
   "source": [
    "## Stop-word removal\n",
    "\n",
    "Let’s define a function to remove stopwords - words that occur so frequently in language that they offer no useful information for classification. This includes words such as “the” and “are”, and the popular library NLTK provides a heavily-used list that will employ."
   ]
  },
  {
   "cell_type": "code",
   "execution_count": 8,
   "id": "valuable-train",
   "metadata": {
    "execution": {
     "iopub.execute_input": "2021-04-23T21:58:52.369500Z",
     "iopub.status.busy": "2021-04-23T21:58:52.368817Z",
     "iopub.status.idle": "2021-04-23T21:58:53.778721Z",
     "shell.execute_reply": "2021-04-23T21:58:53.779906Z"
    },
    "papermill": {
     "duration": 1.439767,
     "end_time": "2021-04-23T21:58:53.780135",
     "exception": false,
     "start_time": "2021-04-23T21:58:52.340368",
     "status": "completed"
    },
    "tags": []
   },
   "outputs": [
    {
     "name": "stdout",
     "output_type": "stream",
     "text": [
      "[nltk_data] Downloading package stopwords to /usr/share/nltk_data...\n",
      "[nltk_data]   Package stopwords is already up-to-date!\n",
      "['i', 'me', 'my', 'myself', 'we', 'our', 'ours', 'ourselves', 'you', \"you're\", \"you've\", \"you'll\", \"you'd\", 'your', 'yours', 'yourself', 'yourselves', 'he', 'him', 'his', 'himself', 'she', \"she's\", 'her', 'hers', 'herself', 'it', \"it's\", 'its', 'itself', 'they', 'them', 'their', 'theirs', 'themselves', 'what', 'which', 'who', 'whom', 'this', 'that', \"that'll\", 'these', 'those', 'am', 'is', 'are', 'was', 'were', 'be', 'been', 'being', 'have', 'has', 'had', 'having', 'do', 'does', 'did', 'doing', 'a', 'an', 'the', 'and', 'but', 'if', 'or', 'because', 'as', 'until', 'while', 'of', 'at', 'by', 'for', 'with', 'about', 'against', 'between', 'into', 'through', 'during', 'before', 'after', 'above', 'below', 'to', 'from', 'up', 'down', 'in', 'out', 'on', 'off', 'over', 'under', 'again', 'further', 'then', 'once', 'here', 'there', 'when', 'where', 'why', 'how', 'all', 'any', 'both', 'each', 'few', 'more', 'most', 'other', 'some', 'such', 'no', 'nor', 'not', 'only', 'own', 'same', 'so', 'than', 'too', 'very', 's', 't', 'can', 'will', 'just', 'don', \"don't\", 'should', \"should've\", 'now', 'd', 'll', 'm', 'o', 're', 've', 'y', 'ain', 'aren', \"aren't\", 'couldn', \"couldn't\", 'didn', \"didn't\", 'doesn', \"doesn't\", 'hadn', \"hadn't\", 'hasn', \"hasn't\", 'haven', \"haven't\", 'isn', \"isn't\", 'ma', 'mightn', \"mightn't\", 'mustn', \"mustn't\", 'needn', \"needn't\", 'shan', \"shan't\", 'shouldn', \"shouldn't\", 'wasn', \"wasn't\", 'weren', \"weren't\", 'won', \"won't\", 'wouldn', \"wouldn't\"]\n"
     ]
    }
   ],
   "source": [
    "import nltk\n",
    "\n",
    "nltk.download('stopwords')\n",
    "from nltk.corpus import stopwords\n",
    "stopwords = stopwords.words('english')    \n",
    "print(stopwords) # see default stopwords\n",
    "\n",
    "def stop_word_removal(row):\n",
    "    token = [token for token in row if token not in stopwords]\n",
    "    token = filter(None, token)\n",
    "    return token"
   ]
  },
  {
   "cell_type": "markdown",
   "id": "german-tunisia",
   "metadata": {
    "papermill": {
     "duration": 0.037371,
     "end_time": "2021-04-23T21:58:53.855185",
     "exception": false,
     "start_time": "2021-04-23T21:58:53.817814",
     "status": "completed"
    },
    "tags": []
   },
   "source": [
    "# Read and Preprocess Enron dataset\n",
    "Read Enron dataset and get a sense for the data by printing sample messages to screen\n",
    "\n",
    "add Codeadd Markdown"
   ]
  },
  {
   "cell_type": "code",
   "execution_count": 9,
   "id": "frozen-consent",
   "metadata": {
    "execution": {
     "iopub.execute_input": "2021-04-23T21:58:53.948586Z",
     "iopub.status.busy": "2021-04-23T21:58:53.948008Z",
     "iopub.status.idle": "2021-04-23T21:59:17.760456Z",
     "shell.execute_reply": "2021-04-23T21:59:17.761060Z"
    },
    "papermill": {
     "duration": 23.860155,
     "end_time": "2021-04-23T21:59:17.761265",
     "exception": false,
     "start_time": "2021-04-23T21:58:53.901110",
     "status": "completed"
    },
    "tags": []
   },
   "outputs": [
    {
     "name": "stdout",
     "output_type": "stream",
     "text": [
      "Successfully loaded 517401 rows and 2 columns!\n",
      "                       file                                            message\n",
      "0     allen-p/_sent_mail/1.  Message-ID: <18782981.1075855378110.JavaMail.e...\n",
      "1    allen-p/_sent_mail/10.  Message-ID: <15464986.1075855378456.JavaMail.e...\n",
      "2   allen-p/_sent_mail/100.  Message-ID: <24216240.1075855687451.JavaMail.e...\n",
      "3  allen-p/_sent_mail/1000.  Message-ID: <13505866.1075863688222.JavaMail.e...\n",
      "4  allen-p/_sent_mail/1001.  Message-ID: <30922949.1075863688243.JavaMail.e...\n"
     ]
    }
   ],
   "source": [
    "# Input data files are available in the \"../input/\" directory.\n",
    "filepath = \"../input/enron-email-dataset/emails.csv\"\n",
    "\n",
    "# Read the data into a pandas dataframe called emails\n",
    "emails = pd.read_csv(filepath)\n",
    "\n",
    "print(\"Successfully loaded {} rows and {} columns!\".format(emails.shape[0], emails.shape[1]))\n",
    "print(emails.head())"
   ]
  },
  {
   "cell_type": "code",
   "execution_count": 10,
   "id": "interested-fusion",
   "metadata": {
    "execution": {
     "iopub.execute_input": "2021-04-23T21:59:17.817127Z",
     "iopub.status.busy": "2021-04-23T21:59:17.816556Z",
     "iopub.status.idle": "2021-04-23T21:59:17.821388Z",
     "shell.execute_reply": "2021-04-23T21:59:17.820912Z"
    },
    "papermill": {
     "duration": 0.03448,
     "end_time": "2021-04-23T21:59:17.821544",
     "exception": false,
     "start_time": "2021-04-23T21:59:17.787064",
     "status": "completed"
    },
    "tags": []
   },
   "outputs": [
    {
     "name": "stdout",
     "output_type": "stream",
     "text": [
      "Message-ID: <18782981.1075855378110.JavaMail.evans@thyme>\n",
      "Date: Mon, 14 May 2001 16:39:00 -0700 (PDT)\n",
      "From: phillip.allen@enron.com\n",
      "To: tim.belden@enron.com\n",
      "Subject: \n",
      "Mime-Version: 1.0\n",
      "Content-Type: text/plain; charset=us-ascii\n",
      "Content-Transfer-Encoding: 7bit\n",
      "X-From: Phillip K Allen\n",
      "X-To: Tim Belden <Tim Belden/Enron@EnronXGate>\n",
      "X-cc: \n",
      "X-bcc: \n",
      "X-Folder: \\Phillip_Allen_Jan2002_1\\Allen, Phillip K.\\'Sent Mail\n",
      "X-Origin: Allen-P\n",
      "X-FileName: pallen (Non-Privileged).pst\n",
      "\n",
      "Here is our forecast\n",
      "\n",
      " \n"
     ]
    }
   ],
   "source": [
    "# take a closer look at the first email\n",
    "print(emails.loc[0][\"message\"])"
   ]
  },
  {
   "cell_type": "code",
   "execution_count": 11,
   "id": "approximate-husband",
   "metadata": {
    "execution": {
     "iopub.execute_input": "2021-04-23T21:59:17.896385Z",
     "iopub.status.busy": "2021-04-23T21:59:17.886090Z",
     "iopub.status.idle": "2021-04-23T22:00:40.135798Z",
     "shell.execute_reply": "2021-04-23T22:00:40.136240Z"
    },
    "papermill": {
     "duration": 82.289588,
     "end_time": "2021-04-23T22:00:40.136394",
     "exception": false,
     "start_time": "2021-04-23T21:59:17.846806",
     "status": "completed"
    },
    "tags": []
   },
   "outputs": [
    {
     "name": "stdout",
     "output_type": "stream",
     "text": [
      "Successfully retrieved message body from e-mails!\n"
     ]
    }
   ],
   "source": [
    "# Separate headers from the message bodies\n",
    "import email\n",
    "\n",
    "def extract_messages(df):\n",
    "    messages = []\n",
    "    for item in df[\"message\"]:\n",
    "        # Return a message object structure from a string\n",
    "        e = email.message_from_string(item)    \n",
    "        # get message body  \n",
    "        message_body = e.get_payload()\n",
    "        messages.append(message_body)\n",
    "    print(\"Successfully retrieved message body from e-mails!\")\n",
    "    return messages\n",
    "\n",
    "bodies = extract_messages(emails)"
   ]
  },
  {
   "cell_type": "code",
   "execution_count": 12,
   "id": "artificial-africa",
   "metadata": {
    "execution": {
     "iopub.execute_input": "2021-04-23T22:00:40.209917Z",
     "iopub.status.busy": "2021-04-23T22:00:40.209338Z",
     "iopub.status.idle": "2021-04-23T22:00:40.216426Z",
     "shell.execute_reply": "2021-04-23T22:00:40.216827Z"
    },
    "papermill": {
     "duration": 0.055232,
     "end_time": "2021-04-23T22:00:40.216966",
     "exception": false,
     "start_time": "2021-04-23T22:00:40.161734",
     "status": "completed"
    },
    "tags": []
   },
   "outputs": [
    {
     "data": {
      "text/html": [
       "<div>\n",
       "<style scoped>\n",
       "    .dataframe tbody tr th:only-of-type {\n",
       "        vertical-align: middle;\n",
       "    }\n",
       "\n",
       "    .dataframe tbody tr th {\n",
       "        vertical-align: top;\n",
       "    }\n",
       "\n",
       "    .dataframe thead th {\n",
       "        text-align: right;\n",
       "    }\n",
       "</style>\n",
       "<table border=\"1\" class=\"dataframe\">\n",
       "  <thead>\n",
       "    <tr style=\"text-align: right;\">\n",
       "      <th></th>\n",
       "      <th>0</th>\n",
       "    </tr>\n",
       "  </thead>\n",
       "  <tbody>\n",
       "    <tr>\n",
       "      <th>0</th>\n",
       "      <td>Thanks for all the efforts, diligence and perseverance to get this money that was owed the company. \\n\\nGreat job by all\\n\\nLD\\n\\n-----Original Message-----\\nFrom: Ashland, Team \\nSent: Thursday, October 25, 2001 1:19 PM\\nTo: Noyes, David; Stephens, LD\\nCc: Miller, Dave W; Howard, Randy; Reed, R...</td>\n",
       "    </tr>\n",
       "    <tr>\n",
       "      <th>1</th>\n",
       "      <td>Italy\\n\\nThis is not very illustrative example. Utilities (ENEL distcos and \\nmunicipalities) will not be allowed to sign long-term supply contracts with \\nproducers (ENEL gensets or divested ENEL gensets). Even, according to the \\nlast draft of market design recently published by the regulator,...</td>\n",
       "    </tr>\n",
       "    <tr>\n",
       "      <th>2</th>\n",
       "      <td>What is the status of Coral Energy Canada Inc. and Enserch Energy Canada LP?\\n\\n\\n\\nDebra Perlingiere\\nEnron North America Corp.\\n1400 Smith Street, EB 3885\\nHouston, Texas 77002\\ndperlin@enron.com\\nPhone 713-853-7658\\nFax  713-646-3490</td>\n",
       "    </tr>\n",
       "    <tr>\n",
       "      <th>3</th>\n",
       "      <td>FYI\\n\\nVince\\n\\n -----Original Message-----\\nFrom: \\tThode, Eric  \\nSent:\\tWednesday, August 15, 2001 9:18 AM\\nTo:\\tKaminski, Vince J\\nSubject:\\tResearch Employees We Haven't Heard From\\n\\nVince --\\n\\nThese are the Research employees I still have as outstanding in the system.  Are these all corr...</td>\n",
       "    </tr>\n",
       "    <tr>\n",
       "      <th>4</th>\n",
       "      <td>\\n\\n-----Original Message-----\\nFrom: Trevino, Susan \\nSent: Friday, April 12, 2002 11:30 AM\\nTo: faulkjb@texaco.com; Green, Michael; gregory.schockling@bhlp.com;\\nHagelmann, Bjorn; hugh.connett@bhlp.com; maedajr@texaco.com; Mihalik,\\nTrevor; Miller, Don (Asset Mktg); randall.curry@bhlp.com; Zis...</td>\n",
       "    </tr>\n",
       "  </tbody>\n",
       "</table>\n",
       "</div>"
      ],
      "text/plain": [
       "                                                                                                                                                                                                                                                                                                             0\n",
       "0  Thanks for all the efforts, diligence and perseverance to get this money that was owed the company. \\n\\nGreat job by all\\n\\nLD\\n\\n-----Original Message-----\\nFrom: Ashland, Team \\nSent: Thursday, October 25, 2001 1:19 PM\\nTo: Noyes, David; Stephens, LD\\nCc: Miller, Dave W; Howard, Randy; Reed, R...\n",
       "1  Italy\\n\\nThis is not very illustrative example. Utilities (ENEL distcos and \\nmunicipalities) will not be allowed to sign long-term supply contracts with \\nproducers (ENEL gensets or divested ENEL gensets). Even, according to the \\nlast draft of market design recently published by the regulator,...\n",
       "2                                                                 What is the status of Coral Energy Canada Inc. and Enserch Energy Canada LP?\\n\\n\\n\\nDebra Perlingiere\\nEnron North America Corp.\\n1400 Smith Street, EB 3885\\nHouston, Texas 77002\\ndperlin@enron.com\\nPhone 713-853-7658\\nFax  713-646-3490\n",
       "3  FYI\\n\\nVince\\n\\n -----Original Message-----\\nFrom: \\tThode, Eric  \\nSent:\\tWednesday, August 15, 2001 9:18 AM\\nTo:\\tKaminski, Vince J\\nSubject:\\tResearch Employees We Haven't Heard From\\n\\nVince --\\n\\nThese are the Research employees I still have as outstanding in the system.  Are these all corr...\n",
       "4  \\n\\n-----Original Message-----\\nFrom: Trevino, Susan \\nSent: Friday, April 12, 2002 11:30 AM\\nTo: faulkjb@texaco.com; Green, Michael; gregory.schockling@bhlp.com;\\nHagelmann, Bjorn; hugh.connett@bhlp.com; maedajr@texaco.com; Mihalik,\\nTrevor; Miller, Don (Asset Mktg); randall.curry@bhlp.com; Zis..."
      ]
     },
     "execution_count": 12,
     "metadata": {},
     "output_type": "execute_result"
    }
   ],
   "source": [
    "# extract random 10000 enron email bodies for building dataset\n",
    "import random\n",
    "bodies_df = pd.DataFrame(random.sample(bodies, 10000))\n",
    "\n",
    "# expand default pandas display options to make emails more clearly visible when printed\n",
    "pd.set_option('display.max_colwidth', 300)\n",
    "\n",
    "bodies_df.head() # you could do print(bodies_df.head()), but Jupyter displays this nicer for pandas DataFrames"
   ]
  },
  {
   "cell_type": "markdown",
   "id": "premier-village",
   "metadata": {
    "papermill": {
     "duration": 0.025558,
     "end_time": "2021-04-23T22:00:40.268517",
     "exception": false,
     "start_time": "2021-04-23T22:00:40.242959",
     "status": "completed"
    },
    "tags": []
   },
   "source": [
    "# Read and Preprocess Fraudulent \"419\" Email Corpus"
   ]
  },
  {
   "cell_type": "code",
   "execution_count": 13,
   "id": "civic-reggae",
   "metadata": {
    "execution": {
     "iopub.execute_input": "2021-04-23T22:00:40.324138Z",
     "iopub.status.busy": "2021-04-23T22:00:40.323653Z",
     "iopub.status.idle": "2021-04-23T22:00:40.948529Z",
     "shell.execute_reply": "2021-04-23T22:00:40.948960Z"
    },
    "papermill": {
     "duration": 0.654906,
     "end_time": "2021-04-23T22:00:40.949106",
     "exception": false,
     "start_time": "2021-04-23T22:00:40.294200",
     "status": "completed"
    },
    "tags": []
   },
   "outputs": [
    {
     "name": "stdout",
     "output_type": "stream",
     "text": [
      "Successfully loaded 3978 spam emails!\n"
     ]
    }
   ],
   "source": [
    "filepath = \"../input/fraudulent-email-corpus/fradulent_emails.txt\"\n",
    "with open(filepath, 'r',encoding=\"latin1\") as file:\n",
    "    data = file.read()\n",
    "    \n",
    "# split on a code word appearing close to the beginning of each email\n",
    "fraud_emails = data.split(\"From r\")\n",
    "\n",
    "print(\"Successfully loaded {} spam emails!\".format(len(fraud_emails)))"
   ]
  },
  {
   "cell_type": "code",
   "execution_count": 14,
   "id": "fossil-function",
   "metadata": {
    "execution": {
     "iopub.execute_input": "2021-04-23T22:00:41.030403Z",
     "iopub.status.busy": "2021-04-23T22:00:41.029603Z",
     "iopub.status.idle": "2021-04-23T22:00:56.891721Z",
     "shell.execute_reply": "2021-04-23T22:00:56.890876Z"
    },
    "papermill": {
     "duration": 15.915474,
     "end_time": "2021-04-23T22:00:56.891869",
     "exception": false,
     "start_time": "2021-04-23T22:00:40.976395",
     "status": "completed"
    },
    "tags": []
   },
   "outputs": [
    {
     "name": "stdout",
     "output_type": "stream",
     "text": [
      "Successfully retrieved message body from e-mails!\n"
     ]
    },
    {
     "data": {
      "text/html": [
       "<div>\n",
       "<style scoped>\n",
       "    .dataframe tbody tr th:only-of-type {\n",
       "        vertical-align: middle;\n",
       "    }\n",
       "\n",
       "    .dataframe tbody tr th {\n",
       "        vertical-align: top;\n",
       "    }\n",
       "\n",
       "    .dataframe thead th {\n",
       "        text-align: right;\n",
       "    }\n",
       "</style>\n",
       "<table border=\"1\" class=\"dataframe\">\n",
       "  <thead>\n",
       "    <tr style=\"text-align: right;\">\n",
       "      <th></th>\n",
       "      <th>0</th>\n",
       "    </tr>\n",
       "  </thead>\n",
       "  <tbody>\n",
       "    <tr>\n",
       "      <th>0</th>\n",
       "      <td>FROM:MR. JAMES NGOLA.\\nCONFIDENTIAL TEL: 233-27-587908.\\nE-MAIL: (james_ngola2002@maktoob.com).\\n\\nURGENT BUSINESS ASSISTANCE AND PARTNERSHIP.\\n\\n\\nDEAR FRIEND,\\n\\nI AM ( DR.) JAMES NGOLA, THE PERSONAL ASSISTANCE TO THE LATE CONGOLESE (PRESIDENT LAURENT KABILA) WHO WAS ASSASSINATED BY HIS BODY G...</td>\n",
       "    </tr>\n",
       "    <tr>\n",
       "      <th>1</th>\n",
       "      <td>Dear Friend,\\n\\nI am Mr. Ben Suleman a custom officer and work as Assistant controller of the Customs and Excise department Of the Federal Ministry of Internal Affairs stationed at the Murtala Mohammed International Airport, Ikeja, Lagos-Nigeria.\\n\\nAfter the sudden death of the former Head of s...</td>\n",
       "    </tr>\n",
       "    <tr>\n",
       "      <th>2</th>\n",
       "      <td>FROM HIS ROYAL MAJESTY (HRM) CROWN RULER OF ELEME KINGDOM \\nCHIEF DANIEL ELEME, PHD, EZE 1 OF ELEME.E-MAIL \\nADDRESS:obong_715@epatra.com  \\n\\nATTENTION:PRESIDENT,CEO Sir/ Madam. \\n\\nThis letter might surprise you because we have met\\nneither in person nor by correspondence. But I believe\\nit is...</td>\n",
       "    </tr>\n",
       "    <tr>\n",
       "      <th>3</th>\n",
       "      <td>FROM HIS ROYAL MAJESTY (HRM) CROWN RULER OF ELEME KINGDOM \\nCHIEF DANIEL ELEME, PHD, EZE 1 OF ELEME.E-MAIL \\nADDRESS:obong_715@epatra.com  \\n\\nATTENTION:PRESIDENT,CEO Sir/ Madam. \\n\\nThis letter might surprise you because we have met\\nneither in person nor by correspondence. But I believe\\nit is...</td>\n",
       "    </tr>\n",
       "    <tr>\n",
       "      <th>4</th>\n",
       "      <td>Dear sir, \\n \\nIt is with a heart full of hope that I write to seek your help in respect of the context below. I am Mrs. Maryam Abacha the former first lady of the former Military Head of State of Nigeria General Sani Abacha whose sudden death occurred on 8th of June 1998 as a result of cardiac ...</td>\n",
       "    </tr>\n",
       "  </tbody>\n",
       "</table>\n",
       "</div>"
      ],
      "text/plain": [
       "                                                                                                                                                                                                                                                                                                             0\n",
       "0  FROM:MR. JAMES NGOLA.\\nCONFIDENTIAL TEL: 233-27-587908.\\nE-MAIL: (james_ngola2002@maktoob.com).\\n\\nURGENT BUSINESS ASSISTANCE AND PARTNERSHIP.\\n\\n\\nDEAR FRIEND,\\n\\nI AM ( DR.) JAMES NGOLA, THE PERSONAL ASSISTANCE TO THE LATE CONGOLESE (PRESIDENT LAURENT KABILA) WHO WAS ASSASSINATED BY HIS BODY G...\n",
       "1  Dear Friend,\\n\\nI am Mr. Ben Suleman a custom officer and work as Assistant controller of the Customs and Excise department Of the Federal Ministry of Internal Affairs stationed at the Murtala Mohammed International Airport, Ikeja, Lagos-Nigeria.\\n\\nAfter the sudden death of the former Head of s...\n",
       "2  FROM HIS ROYAL MAJESTY (HRM) CROWN RULER OF ELEME KINGDOM \\nCHIEF DANIEL ELEME, PHD, EZE 1 OF ELEME.E-MAIL \\nADDRESS:obong_715@epatra.com  \\n\\nATTENTION:PRESIDENT,CEO Sir/ Madam. \\n\\nThis letter might surprise you because we have met\\nneither in person nor by correspondence. But I believe\\nit is...\n",
       "3  FROM HIS ROYAL MAJESTY (HRM) CROWN RULER OF ELEME KINGDOM \\nCHIEF DANIEL ELEME, PHD, EZE 1 OF ELEME.E-MAIL \\nADDRESS:obong_715@epatra.com  \\n\\nATTENTION:PRESIDENT,CEO Sir/ Madam. \\n\\nThis letter might surprise you because we have met\\nneither in person nor by correspondence. But I believe\\nit is...\n",
       "4  Dear sir, \\n \\nIt is with a heart full of hope that I write to seek your help in respect of the context below. I am Mrs. Maryam Abacha the former first lady of the former Military Head of State of Nigeria General Sani Abacha whose sudden death occurred on 8th of June 1998 as a result of cardiac ..."
      ]
     },
     "execution_count": 14,
     "metadata": {},
     "output_type": "execute_result"
    }
   ],
   "source": [
    "fraud_bodies = extract_messages(pd.DataFrame(fraud_emails,columns=[\"message\"],dtype=str))\n",
    "fraud_bodies_df = pd.DataFrame(fraud_bodies[1:])\n",
    "\n",
    "fraud_bodies_df.head() # you could do print(fraud_bodies_df.head()), but Jupyter displays this nicer for pandas DataFrames"
   ]
  },
  {
   "cell_type": "markdown",
   "id": "entertaining-ranch",
   "metadata": {
    "papermill": {
     "duration": 0.030259,
     "end_time": "2021-04-23T22:00:56.949828",
     "exception": false,
     "start_time": "2021-04-23T22:00:56.919569",
     "status": "completed"
    },
    "tags": []
   },
   "source": [
    "# Putting It All Together To Assemble Dataset\n",
    "Now, putting all the preprocessing steps together we assemble our dataset..."
   ]
  },
  {
   "cell_type": "code",
   "execution_count": 15,
   "id": "efficient-bridges",
   "metadata": {
    "execution": {
     "iopub.execute_input": "2021-04-23T22:00:57.043422Z",
     "iopub.status.busy": "2021-04-23T22:00:57.027144Z",
     "iopub.status.idle": "2021-04-23T22:01:02.607567Z",
     "shell.execute_reply": "2021-04-23T22:01:02.608188Z"
    },
    "papermill": {
     "duration": 5.626275,
     "end_time": "2021-04-23T22:01:02.608424",
     "exception": false,
     "start_time": "2021-04-23T22:00:56.982149",
     "status": "completed"
    },
    "tags": []
   },
   "outputs": [],
   "source": [
    "import random\n",
    "\n",
    "# Convert everything to lower-case, truncate to maxtokens and truncate each token to maxtokenlen\n",
    "EnronEmails = bodies_df.iloc[:,0].apply(tokenize)\n",
    "EnronEmails = EnronEmails.apply(stop_word_removal)\n",
    "EnronEmails = EnronEmails.apply(reg_expressions)\n",
    "EnronEmails = EnronEmails.sample(Nsamp)\n",
    "\n",
    "SpamEmails = fraud_bodies_df.iloc[:,0].apply(tokenize)\n",
    "SpamEmails = SpamEmails.apply(stop_word_removal)\n",
    "SpamEmails = SpamEmails.apply(reg_expressions)\n",
    "SpamEmails = SpamEmails.sample(Nsamp)\n",
    "\n",
    "raw_data = pd.concat([SpamEmails,EnronEmails], axis=0).values"
   ]
  },
  {
   "cell_type": "code",
   "execution_count": 16,
   "id": "decreased-offset",
   "metadata": {
    "execution": {
     "iopub.execute_input": "2021-04-23T22:01:02.705143Z",
     "iopub.status.busy": "2021-04-23T22:01:02.704358Z",
     "iopub.status.idle": "2021-04-23T22:01:02.709198Z",
     "shell.execute_reply": "2021-04-23T22:01:02.709786Z"
    },
    "papermill": {
     "duration": 0.057553,
     "end_time": "2021-04-23T22:01:02.709990",
     "exception": false,
     "start_time": "2021-04-23T22:01:02.652437",
     "status": "completed"
    },
    "tags": []
   },
   "outputs": [
    {
     "name": "stdout",
     "output_type": "stream",
     "text": [
      "Shape of combined data represented as numpy array is:\n",
      "(2000,)\n",
      "Data represented as numpy array is:\n",
      "[list([])\n",
      " list(['contenttype', 'textplainmessageid', 'aebdwebstreamingnetdate', 'sun', '', 'feb', '', '', '', 'cetcontenttransferencoding', 'quotedprintableddear', 'friend', 'ddmy', 'name', 'mrs', 'xian', 'i', 'bank', 'manager', 'reputable', 'bank', 'china', 'i', 'would', 'respectfully', 'request', 'keep', 'contents', 'mail', 'confidential', 'respect', 'integrity', 'information', 'come', 'result', 'mail', 'i', 'contacted', 'independently', 'investigation', 'and', 'one', 'informed', 'communication', 'ddthe', 'subject', 'questions', 'client', 'bank', 'demise', 'he', 'maintained', 'investment', 'millions', 'dollars', 'since', 'reached', 'maturity', 'the', 'subject', 'maintained', 'discrete', 'relationship', 'us', 'and', 'never', 'nominated', 'legatee', 'investment', 'at', 'time', 'demise', 'he', 'yet', 'sign', 'mandate', 'card', 'remained', 'testate', 'it', 'ethical', 'investment', 'us', 'confiscated', 'government', 'reverted', 'treasury', 'quite', 'would', 'diverted', 'embezzled', 'insincere', 'executives', 'ddconsequently', 'i', 'propose', 'i', 'like', 'foreigner', 'stand', 'next', 'kin', 'deceased', 'acting', 'capacity', 'really', 'simple', 'i'])\n",
      " list(['att', 'strictly', 'confidential', 'i', 'know', 'surprised', 'read', 'mebut', 'please', 'consider', 'letter', 'request', 'family', 'need', 'assistancefirst', 'i', 'must', 'introduce', 'i', 'mr', 'mark', 'biya', 'angolai', 'first', 'son', 'late', 'brigadier', 'paul', '', 'presently', 'residing', 'south', 'africa', 'i', 'got', 'contact', 'south', 'africa', 'information', 'exchangesaiehere', 'johannesburg', 'behalf', 'widowed', 'mothermrs', 'philomin', 'i', 'decided', 'solicit', 'assistance', 'transfer', 'sum', 'ustwenty', 'one', 'million', 'three', 'hundred', 'twenty', 'thousand', 'united', 'state', 'dollarsinherited', 'late', 'father', 'personal', 'companys', 'account', 'before', 'fathers', 'deathhe', 'brigadier', 'charge', 'arms', 'ammunition', 'purchase', 'angola', 'armed', 'forcedin', 'willhe', 'specific', 'ally', 'drew', 'attention', 'sum', 'usmillionwhich', 'deposited', 'safe', 'box', 'private', 'security', 'company', 'south', 'african', 'fact', 'my', 'father', 'said', 'in', 'his', 'will', 'and', 'quote', 'my', 'beloved', 'soni', 'wish', 'draw', 'attention'])\n",
      " ...\n",
      " list(['attached', 'clean', 'redlined', 'versions', 'revised', 'drafts', 'i', 'theletter', 'agreement', 'ena', 'sweetgum', 'energy', 'lp', 'relating', 'caenergy', 'development', 'i', 'llc', 'ge', 'generator', 'set', 'ii', 'letteragreement', 'ena', 'sweetgum', 'energy', 'lp', 'relating', 'abbtransformer', 'the', 'letter', 'agreement', 'ena', 'sweetgum', 'energy', 'lprelating', 'ca', 'energy', 'development', 'ii', 'llc', 'ge', 'generator', 'set', 'willbe', 'form', 'item', 'i', 'changes', 'reflect', 'properllcto', 'expedite', 'matters', 'revised', 'drafts', 'sent', 'beforereview', 'intergen', 'understanding', 'intergen', 'may', 'haveadditional', 'changes', 'commentsin', 'addition', 'changes', 'necessitated', 'substitution', 'sweetgum', 'fortejas', 'letter', 'agreements', 'revised', 'reflect', 'followingrequirements', 'intergeni', 'the', 'parent', 'guaranty', 'behalf', 'sweetgum', 'energy', 'lp', 'beendeletedii', 'a', 'mutual', 'covenant', 'requiring', 'parties', 'use', 'reasonableefforts', 'satisfy', 'conditions', 'precedent', 'added', 'end', 'ofsection', '', 'andiii', 'a', 'shop', 'clause', 'part', 'ena', 'affiliates', 'beenadded', 'new', 'section', 'the', 'reference', 'try', 'ventures', 'international', 'agreement', 'deletedfrom', 'letter', 'agreement', 'relating', 'abb', 'transformer'])\n",
      " list(['steve', 'attached', 'memo', 'reponds', 'question', 'can', 'solution', 'utilities', 'undecollection', 'problem', 'take', 'place', 'puc', 'legislative', 'fix', 'required', 'as', 'discussed', 'im', 'also', 'attaching', 'memo', 'mike', 'day', 'the', 'issue', 'bottom', 'line', 'its', 'within', 'pucs', 'jurisdiction', 'solve', 'problem', 'the', 'likelihood', 'high', 'key', 'focus', 'legislature', 'next', 'session', 'if', 'you', 'anyone', 'distribution', 'questions', 'let', 'me', 'knowbestjeff'])\n",
      " list(['from', 'astrologycom', 'must', 'i', 'beware', 'overindulgence', 'websitesi', 'like', 'part', 'charm', 'charisma', 'think', 'truesagittarius', 'sagittariuswhen', 'two', 'sagittarians', 'join', 'together', 'love', 'match', 'truthloving', 'natures', 'makes', 'near', 'perfect', 'relationship', 'this', 'couple', 'views', 'world', 'around', 'them', 'educated', 'eye', 'share', 'intense', 'hunger', 'knowledge', 'they', 'engage', 'one', 'another', 'pleasant', 'conversation', 'banter', 'challenges', 'tickles', 'mind', 'an', 'occasional', 'hotheaded', 'dispute', 'can', 'erupt', 'sagittariussagittarius', 'relationship', 'one', 'factfanatic', 'sag', 'partner', 'carries', 'things', 'little', 'far', 'easygoing', 'independent', 'two', 'are', 'compatible', 'comes', 'balancing', 'personal', 'interests', 'theyve', 'never', 'known', 'jealousy', 'partner', 'keeps', 'busy', 'personal', 'projects', 'their', 'lover', 'when', 'together', 'however', 'toward', 'pleasing', 'their', 'partner', 'satiating', 'common', 'interests', 'although', 'adaptable', 'and', 'modern', 'can', 'times', 'fly', 'handle', 'however', 'archers', 'nature', 'hold', 'grudge', 'let', 'disagreements', 'fester', 'long', 'sagittarius', 'ruled', 'planet', 'jupiter', 'luck', 'expansion', 'key', 'word', 'here', 'as', 'partners', 'enjoy'])]\n"
     ]
    }
   ],
   "source": [
    "print(\"Shape of combined data represented as numpy array is:\")\n",
    "print(raw_data.shape)\n",
    "print(\"Data represented as numpy array is:\")\n",
    "print(raw_data)\n",
    "\n",
    "# corresponding labels\n",
    "Categories = ['spam','notspam']\n",
    "header = ([1]*Nsamp)\n",
    "header.extend(([0]*Nsamp))"
   ]
  },
  {
   "cell_type": "code",
   "execution_count": 17,
   "id": "restricted-moisture",
   "metadata": {
    "execution": {
     "iopub.execute_input": "2021-04-23T22:01:02.821077Z",
     "iopub.status.busy": "2021-04-23T22:01:02.820250Z",
     "iopub.status.idle": "2021-04-23T22:01:02.844740Z",
     "shell.execute_reply": "2021-04-23T22:01:02.844025Z"
    },
    "papermill": {
     "duration": 0.085389,
     "end_time": "2021-04-23T22:01:02.844910",
     "exception": false,
     "start_time": "2021-04-23T22:01:02.759521",
     "status": "completed"
    },
    "tags": []
   },
   "outputs": [
    {
     "name": "stdout",
     "output_type": "stream",
     "text": [
      "train_x/train_y list details, to make sure it is of the right form:\n",
      "1400\n",
      "[['hi katie i feeling good status deals looks like close next wednesday so stands now i think i work this weekend of course i said that almost positive something come uphmmm actually work might bad thing alternative helping roommate pack stuff move north carolinahave great weekend talk soongerald']\n",
      " ['my dear friendcmy name mremusa ae zuluc managerc creditand foreign bills african development bank plcei writing respect foreign customer ofmy bank account number kfadb whoperished plane crash bkorean air flight dwith whole passengers aboard august c esince demise customerc i could care lessaboutci personallyhave watched keen interest see next kinbut proved abortive one come toclaim funds use mc bfifty seven millionunited states dollarsd branchfor long timeeon notec i decided seek namecould used next kin one come upto next kine and banking ethics heredoes allow money stay sevenyearsc money recalled banktreasury unclaimed periode in view ofthis i got contact search via businessreport web site see assiste iwill give  totaleupon receipt responsec i send youby fax email']\n",
      " ['atta girlyou heard ben complementing jeff ben said wished worked could participate prc review the point lost me']\n",
      " ...\n",
      " ['']\n",
      " ['dearci know proposal might surprise consider emergencye in nut shell name miss vivian gueyec  years old republic sierrialeone west africac seeking refugee dakar senegal theunhcre the child late drefedinand gueyee i looking someone take child i promise obidient i bring happiness lifee i want assist transactione my late father managing director rainbow gold diamond mine company kenemasierraleoneebut killed along side mother longing civil war properties totally destroyede howeverc death i managed escape important files fatherehe sum usemseven million five hundred thousand ues dollars onlye this amount deposited late father one leading bankse the deposit documents indicate next kine presentlyc i saddled problem securing trust worthy foriegn personality help mee i map']\n",
      " ['dear friendi write seek cooperation foreign partner assistance enable us properties invest stable economy country do accept apology mail suit personal business ethicsi mr stephen bello senior civil servant nigerian civil service i making proposal strict confidence behalf partners as senior civil servants nigerian government nigerian civil service laws code conduct bureau forbids us foreign accounts possession overdue payment bill totalling eighteen million five hundred thousand united states dollars us want transfer abroad assistance cooperation companyor individual receive said funds via reliable bank account behalfif proposal satisfy you indicate interest writing via email giving call confidential telephone number    enable educate modalities transaction for assistance shall receive  entire sum amounting us million']]\n",
      "[0 1 0 1 1]\n",
      "(1400,)\n"
     ]
    }
   ],
   "source": [
    "# function for shuffling data in unison with labels/header\n",
    "def unison_shuffle(a, b):\n",
    "    p = np.random.permutation(len(b))\n",
    "    data = a[p]\n",
    "    header = np.asarray(b)[p]\n",
    "    return data, header\n",
    "\n",
    "# function for converting data into the right format, due to the difference in required format from sklearn models\n",
    "# we expect a single string per email here, versus a list of tokens for the sklearn models previously explored\n",
    "def convert_data(raw_data,header):\n",
    "    converted_data, labels = [], []\n",
    "    for i in range(raw_data.shape[0]):\n",
    "        out = ' '.join(raw_data[i])\n",
    "        converted_data.append(out)\n",
    "        labels.append(header[i])\n",
    "        #print(i)\n",
    "    converted_data = np.array(converted_data, dtype=object)[:, np.newaxis]\n",
    "    \n",
    "    return converted_data, np.array(labels)\n",
    "\n",
    "raw_data, header = unison_shuffle(raw_data, header)\n",
    "\n",
    "# split into independent 70% training and 30% testing sets\n",
    "idx = int(0.7*raw_data.shape[0])\n",
    "# 70% of data for training\n",
    "train_x, train_y = convert_data(raw_data[:idx],header[:idx])\n",
    "# remaining 30% for testing\n",
    "test_x, test_y = convert_data(raw_data[idx:],header[idx:])\n",
    "\n",
    "print(\"train_x/train_y list details, to make sure it is of the right form:\")\n",
    "print(len(train_x))\n",
    "print(train_x)\n",
    "print(train_y[:5])\n",
    "print(train_y.shape)"
   ]
  },
  {
   "cell_type": "markdown",
   "id": "heavy-parallel",
   "metadata": {
    "papermill": {
     "duration": 0.045952,
     "end_time": "2021-04-23T22:01:02.937289",
     "exception": false,
     "start_time": "2021-04-23T22:01:02.891337",
     "status": "completed"
    },
    "tags": []
   },
   "source": [
    "# Build, Train and Evaluate BERT Model\n",
    "First define critical functions that define various components of the BERT model"
   ]
  },
  {
   "cell_type": "code",
   "execution_count": 18,
   "id": "distributed-extent",
   "metadata": {
    "execution": {
     "iopub.execute_input": "2021-04-23T22:01:03.039870Z",
     "iopub.status.busy": "2021-04-23T22:01:03.039057Z",
     "iopub.status.idle": "2021-04-23T22:01:03.045064Z",
     "shell.execute_reply": "2021-04-23T22:01:03.044452Z"
    },
    "papermill": {
     "duration": 0.06148,
     "end_time": "2021-04-23T22:01:03.045234",
     "exception": false,
     "start_time": "2021-04-23T22:01:02.983754",
     "status": "completed"
    },
    "tags": []
   },
   "outputs": [],
   "source": [
    "# Function to build overall model\n",
    "def build_model(max_seq_length):\n",
    "    # tf hub bert model path\n",
    "    bert_path = \"https://tfhub.dev/tensorflow/bert_en_uncased_L-12_H-768_A-12/4\" \n",
    "\n",
    "    text_input = tf.keras.layers.Input(shape=(), dtype=tf.string)\n",
    "    \n",
    "    \n",
    "    preprocessor = hub.KerasLayer(\n",
    "    \"https://tfhub.dev/tensorflow/bert_en_uncased_preprocess/3\")\n",
    "    encoder_inputs = preprocessor(text_input)\n",
    "    encoder = hub.KerasLayer(bert_path,trainable=False)\n",
    "    outputs = encoder(encoder_inputs)\n",
    "    pooled_output = outputs[\"pooled_output\"]      # [batch_size, 768].\n",
    "    sequence_output = outputs[\"sequence_output\"]  # [batch_size, seq_length, 768].# just extract BERT features\n",
    "    \n",
    "    # train dense classification layer on top of extracted pooled output features\n",
    "    dense = tf.keras.layers.Dense(256, activation=\"relu\")(pooled_output)\n",
    "    pred = tf.keras.layers.Dense(1, activation=\"sigmoid\")(dense)\n",
    "\n",
    "    model = tf.keras.Model(inputs=text_input, outputs=pred)\n",
    "    model.compile(loss=\"binary_crossentropy\", optimizer=\"adam\", metrics=[\"accuracy\"])\n",
    "    model.summary()\n",
    "\n",
    "    return model"
   ]
  },
  {
   "cell_type": "code",
   "execution_count": 19,
   "id": "unsigned-strike",
   "metadata": {
    "execution": {
     "iopub.execute_input": "2021-04-23T22:01:03.150810Z",
     "iopub.status.busy": "2021-04-23T22:01:03.143890Z",
     "iopub.status.idle": "2021-04-23T22:02:50.248384Z",
     "shell.execute_reply": "2021-04-23T22:02:50.249308Z"
    },
    "papermill": {
     "duration": 107.15731,
     "end_time": "2021-04-23T22:02:50.249520",
     "exception": false,
     "start_time": "2021-04-23T22:01:03.092210",
     "status": "completed"
    },
    "tags": []
   },
   "outputs": [
    {
     "name": "stdout",
     "output_type": "stream",
     "text": [
      "Model: \"model\"\n",
      "__________________________________________________________________________________________________\n",
      "Layer (type)                    Output Shape         Param #     Connected to                     \n",
      "==================================================================================================\n",
      "input_1 (InputLayer)            [(None,)]            0                                            \n",
      "__________________________________________________________________________________________________\n",
      "keras_layer (KerasLayer)        {'input_word_ids': ( 0           input_1[0][0]                    \n",
      "__________________________________________________________________________________________________\n",
      "keras_layer_1 (KerasLayer)      {'encoder_outputs':  109482241   keras_layer[0][0]                \n",
      "                                                                 keras_layer[0][1]                \n",
      "                                                                 keras_layer[0][2]                \n",
      "__________________________________________________________________________________________________\n",
      "dense (Dense)                   (None, 256)          196864      keras_layer_1[0][13]             \n",
      "__________________________________________________________________________________________________\n",
      "dense_1 (Dense)                 (None, 1)            257         dense[0][0]                      \n",
      "==================================================================================================\n",
      "Total params: 109,679,362\n",
      "Trainable params: 197,121\n",
      "Non-trainable params: 109,482,241\n",
      "__________________________________________________________________________________________________\n",
      "Epoch 1/5\n",
      "44/44 [==============================] - 24s 347ms/step - loss: 0.6009 - accuracy: 0.6628 - val_loss: 0.2895 - val_accuracy: 0.9033\n",
      "Epoch 2/5\n",
      "44/44 [==============================] - 14s 322ms/step - loss: 0.2783 - accuracy: 0.9027 - val_loss: 0.2669 - val_accuracy: 0.8933\n",
      "Epoch 3/5\n",
      "44/44 [==============================] - 14s 319ms/step - loss: 0.2217 - accuracy: 0.9121 - val_loss: 0.1642 - val_accuracy: 0.9467\n",
      "Epoch 4/5\n",
      "44/44 [==============================] - 14s 316ms/step - loss: 0.1435 - accuracy: 0.9633 - val_loss: 0.1372 - val_accuracy: 0.9667\n",
      "Epoch 5/5\n",
      "44/44 [==============================] - 14s 323ms/step - loss: 0.1491 - accuracy: 0.9552 - val_loss: 0.2032 - val_accuracy: 0.9317\n"
     ]
    }
   ],
   "source": [
    "# Build model\n",
    "model = build_model(maxtokens)\n",
    "\n",
    "# Instantiate variables\n",
    "#initialize_vars(sess)\n",
    "\n",
    "# Train model\n",
    "history = model.fit(train_x,train_y,validation_data=(test_x,test_y),epochs=5,batch_size=32)"
   ]
  },
  {
   "cell_type": "markdown",
   "id": "quality-local",
   "metadata": {
    "papermill": {
     "duration": 0.085843,
     "end_time": "2021-04-23T22:02:50.422553",
     "exception": false,
     "start_time": "2021-04-23T22:02:50.336710",
     "status": "completed"
    },
    "tags": []
   },
   "source": [
    "# Visualize and Save Convergence Info"
   ]
  },
  {
   "cell_type": "code",
   "execution_count": 20,
   "id": "portable-astrology",
   "metadata": {
    "execution": {
     "iopub.execute_input": "2021-04-23T22:02:50.619126Z",
     "iopub.status.busy": "2021-04-23T22:02:50.618505Z",
     "iopub.status.idle": "2021-04-23T22:02:51.063615Z",
     "shell.execute_reply": "2021-04-23T22:02:51.063047Z"
    },
    "papermill": {
     "duration": 0.554877,
     "end_time": "2021-04-23T22:02:51.063748",
     "exception": false,
     "start_time": "2021-04-23T22:02:50.508871",
     "status": "completed"
    },
    "tags": []
   },
   "outputs": [
    {
     "data": {
      "image/png": "[encoded data removed]",
      "text/plain": [
       "<Figure size 432x288 with 1 Axes>"
      ]
     },
     "metadata": {
      "needs_background": "light"
     },
     "output_type": "display_data"
    }
   ],
   "source": [
    "import matplotlib.pyplot as plt\n",
    "\n",
    "df_history = pd.DataFrame(history.history)\n",
    "fig,ax = plt.subplots()\n",
    "plt.plot(range(df_history.shape[0]),df_history['val_accuracy'],'bs--',label='validation')\n",
    "plt.plot(range(df_history.shape[0]),df_history['accuracy'],'r^--',label='training')\n",
    "plt.xlabel('epoch')\n",
    "plt.ylabel('accuracy')\n",
    "plt.title('BERT Email Classification Training')\n",
    "plt.legend(loc='best')\n",
    "plt.grid()\n",
    "plt.show()\n",
    "\n",
    "fig.savefig('BERTConvergence.eps', format='eps')\n",
    "fig.savefig('BERTConvergence.pdf', format='pdf')\n",
    "fig.savefig('BERTConvergence.png', format='png')\n",
    "fig.savefig('BERTConvergence.svg', format='svg')"
   ]
  },
  {
   "cell_type": "code",
   "execution_count": 21,
   "id": "ceramic-cameroon",
   "metadata": {
    "execution": {
     "iopub.execute_input": "2021-04-23T22:02:51.245572Z",
     "iopub.status.busy": "2021-04-23T22:02:51.244885Z",
     "iopub.status.idle": "2021-04-23T22:02:51.250025Z",
     "shell.execute_reply": "2021-04-23T22:02:51.249593Z"
    },
    "papermill": {
     "duration": 0.098649,
     "end_time": "2021-04-23T22:02:51.250132",
     "exception": false,
     "start_time": "2021-04-23T22:02:51.151483",
     "status": "completed"
    },
    "tags": []
   },
   "outputs": [
    {
     "data": {
      "text/html": [
       "<a href=BERTConvergence.svg>Download file</a>"
      ],
      "text/plain": [
       "<IPython.core.display.HTML object>"
      ]
     },
     "execution_count": 21,
     "metadata": {},
     "output_type": "execute_result"
    }
   ],
   "source": [
    "from IPython.display import HTML\n",
    "def create_download_link(title = \"Download file\", filename = \"data.csv\"):  \n",
    "    html = '<a href={filename}>{title}</a>'\n",
    "    html = html.format(title=title,filename=filename)\n",
    "    return HTML(html)\n",
    "\n",
    "create_download_link(filename='BERTConvergence.svg')"
   ]
  }
 ],
 "metadata": {
  "kernelspec": {
   "display_name": "Python 3",
   "language": "python",
   "name": "python3"
  },
  "language_info": {
   "codemirror_mode": {
    "name": "ipython",
    "version": 3
   },
   "file_extension": ".py",
   "mimetype": "text/x-python",
   "name": "python",
   "nbconvert_exporter": "python",
   "pygments_lexer": "ipython3",
   "version": "3.7.9"
  },
  "papermill": {
   "default_parameters": {},
   "duration": 266.168044,
   "end_time": "2021-04-23T22:02:57.338468",
   "environment_variables": {},
   "exception": null,
   "input_path": "__notebook__.ipynb",
   "output_path": "__notebook__.ipynb",
   "parameters": {},
   "start_time": "2021-04-23T21:58:31.170424",
   "version": "2.3.2"
  }
 },
 "nbformat": 4,
 "nbformat_minor": 5
}
